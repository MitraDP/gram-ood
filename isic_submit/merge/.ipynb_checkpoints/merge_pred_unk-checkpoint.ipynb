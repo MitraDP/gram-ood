{
 "cells": [
  {
   "cell_type": "code",
   "execution_count": null,
   "metadata": {},
   "outputs": [],
   "source": [
    "import numpy as np\n",
    "import pandas as pd"
   ]
  },
  {
   "cell_type": "markdown",
   "metadata": {},
   "source": [
    "## Configuration"
   ]
  },
  {
   "cell_type": "code",
   "execution_count": null,
   "metadata": {},
   "outputs": [],
   "source": [
    "method = 'gram-ood*' # or 'gram-ood'\n",
    "model = 'vgg' # or 'resnet', 'densenet', 'mobilenet'\n",
    "\n",
    "\n",
    "devs = np.loadtxt('final/final_vgg')\n",
    "vals = np.loadtxt('final/test_vgg')\n",
    "names = np.genfromtxt('final/names_vgg', dtype='str')\n",
    "\n",
    "devs += np.loadtxt('final/final_mobilenet')\n",
    "vals = np.loadtxt('final/test_mobilenet')\n",
    "names = np.genfromtxt('final/names_mobilenet', dtype='str')\n",
    "\n",
    "devs += np.loadtxt('final/final_resnet')\n",
    "vals = np.loadtxt('final/test_resnet')\n",
    "names = np.genfromtxt('final/names_resnet', dtype='str')\n",
    "\n",
    "devs += np.loadtxt('final/final_densenet')\n",
    "vals = np.loadtxt('final/test_densenet')\n",
    "names = np.genfromtxt('final/names_densenet', dtype='str')\n",
    "\n",
    "\n",
    "vals_norm = (vals - vals.min()) / (vals.max() - vals.min())\n",
    "devs_norm = (devs - devs.min()) / (devs.max() - devs.min())\n",
    "\n",
    "dic = {x:y for x,y in zip(names, devs_norm)}\n",
    "\n",
    "data = pd.read_csv('OOD.csv')\n",
    "\n",
    "\n",
    "cols = ['image', 'MEL', 'NV', 'BCC', 'AK', 'BKL', 'DF', 'VASC', 'SCC', 'UNK']\n",
    "vals = list()        \n",
    "\n",
    "for _, row in data.iterrows():\n",
    "    \n",
    "    img_name = row['image']\n",
    "    new_unk = dic[img_name]\n",
    "    new_row = row[cols].values\n",
    "    \n",
    "#    if new_unk > 0.02:\n",
    "#        new_unk = 1.0\n",
    "    new_row[-1] = new_unk\n",
    "    \n",
    "    vals.append(new_row)\n",
    "\n",
    "\n",
    "new_df = pd.DataFrame(vals, columns=cols)\n",
    "\n",
    "#new_df.to_csv(\"task3/sub_vgg.csv\", index=False)\n",
    "#new_df.to_csv(\"task3/sub_mobilenet.csv\", index=False)\n",
    "new_df.to_csv(\"task3/sub_all.csv\", index=False)\n",
    "#new_df.to_csv(\"task3/sub_resnet.csv\", index=False)\n",
    "#new_df.to_csv(\"task3/sub_densenet.csv\", index=False)\n",
    "\n",
    "thres = 1\n",
    "t = 0\n",
    "for v in vals_norm:\n",
    "    if v > 0.03:\n",
    "        t+=1\n",
    "        \n",
    "print(t/len(vals))"
   ]
  }
 ],
 "metadata": {
  "kernelspec": {
   "display_name": "Python 3",
   "language": "python",
   "name": "python3"
  },
  "language_info": {
   "codemirror_mode": {
    "name": "ipython",
    "version": 3
   },
   "file_extension": ".py",
   "mimetype": "text/x-python",
   "name": "python",
   "nbconvert_exporter": "python",
   "pygments_lexer": "ipython3",
   "version": "3.6.8"
  }
 },
 "nbformat": 4,
 "nbformat_minor": 2
}
