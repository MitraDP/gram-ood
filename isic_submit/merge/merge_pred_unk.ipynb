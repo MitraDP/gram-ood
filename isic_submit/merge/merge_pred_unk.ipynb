{
 "cells": [
  {
   "cell_type": "code",
   "execution_count": 2,
   "metadata": {},
   "outputs": [],
   "source": [
    "import numpy as np\n",
    "import pandas as pd"
   ]
  },
  {
   "cell_type": "code",
   "execution_count": 9,
   "metadata": {},
   "outputs": [
    {
     "name": "stdout",
     "output_type": "stream",
     "text": [
      "Building the submission...\n",
      "Done!\n"
     ]
    }
   ],
   "source": [
    "method = 'gram-ood' # or 'gram-ood'\n",
    "model = 'vgg' # or 'resnet', 'densenet', 'mobilenet'\n",
    "\n",
    "\n",
    "devs = np.loadtxt('../results/{}/final_{}'.format(method, model))\n",
    "img_names = np.genfromtxt('../results/{}/names_{}'.format(method, model), dtype='str')\n",
    "devs_norm = (devs - devs.min()) / (devs.max() - devs.min())\n",
    "dic_names_devs = {x:y for x,y in zip(img_names, devs_norm)}\n",
    "\n",
    "predictions = pd.read_csv('predictions.csv')\n",
    "\n",
    "cols = ['image', 'MEL', 'NV', 'BCC', 'AK', 'BKL', 'DF', 'VASC', 'SCC', 'UNK']\n",
    "vals = list()        \n",
    "\n",
    "print(\"Building the submission...\")\n",
    "for _, row in predictions.iterrows():    \n",
    "    name = row['image']\n",
    "    new_unk = dic_names_devs[name]\n",
    "    new_row = row[cols].values\n",
    "    new_row[-1] = new_unk    \n",
    "    vals.append(new_row)\n",
    "\n",
    "new_pred = pd.DataFrame(vals, columns=cols)\n",
    "new_pred.to_csv(\"submissions/{}_{}.csv\".format(method, model), index=False)\n",
    "\n",
    "print(\"Done!\")\n"
   ]
  },
  {
   "cell_type": "code",
   "execution_count": null,
   "metadata": {},
   "outputs": [],
   "source": []
  }
 ],
 "metadata": {
  "kernelspec": {
   "display_name": "Python 3",
   "language": "python",
   "name": "python3"
  },
  "language_info": {
   "codemirror_mode": {
    "name": "ipython",
    "version": 3
   },
   "file_extension": ".py",
   "mimetype": "text/x-python",
   "name": "python",
   "nbconvert_exporter": "python",
   "pygments_lexer": "ipython3",
   "version": "3.6.8"
  }
 },
 "nbformat": 4,
 "nbformat_minor": 2
}
